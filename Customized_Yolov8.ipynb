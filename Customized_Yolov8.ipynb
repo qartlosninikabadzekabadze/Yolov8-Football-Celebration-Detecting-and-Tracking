{
 "cells": [
  {
   "cell_type": "code",
   "execution_count": 1,
   "id": "70ec5687",
   "metadata": {
    "execution": {
     "iopub.execute_input": "2023-12-29T18:56:13.952377Z",
     "iopub.status.busy": "2023-12-29T18:56:13.952039Z",
     "iopub.status.idle": "2023-12-29T18:56:14.920305Z",
     "shell.execute_reply": "2023-12-29T18:56:14.919389Z"
    },
    "id": "Y8cDtxLIBHgQ",
    "outputId": "b7931f3b-4cbd-4201-b18a-18a2d23919d8",
    "papermill": {
     "duration": 0.976654,
     "end_time": "2023-12-29T18:56:14.922603",
     "exception": false,
     "start_time": "2023-12-29T18:56:13.945949",
     "status": "completed"
    },
    "tags": []
   },
   "outputs": [
    {
     "name": "stdout",
     "output_type": "stream",
     "text": [
      "Fri Dec 29 18:56:14 2023       \r\n",
      "+-----------------------------------------------------------------------------+\r\n",
      "| NVIDIA-SMI 470.161.03   Driver Version: 470.161.03   CUDA Version: 11.4     |\r\n",
      "|-------------------------------+----------------------+----------------------+\r\n",
      "| GPU  Name        Persistence-M| Bus-Id        Disp.A | Volatile Uncorr. ECC |\r\n",
      "| Fan  Temp  Perf  Pwr:Usage/Cap|         Memory-Usage | GPU-Util  Compute M. |\r\n",
      "|                               |                      |               MIG M. |\r\n",
      "|===============================+======================+======================|\r\n",
      "|   0  Tesla P100-PCIE...  Off  | 00000000:00:04.0 Off |                    0 |\r\n",
      "| N/A   35C    P0    26W / 250W |      0MiB / 16280MiB |      0%      Default |\r\n",
      "|                               |                      |                  N/A |\r\n",
      "+-------------------------------+----------------------+----------------------+\r\n",
      "                                                                               \r\n",
      "+-----------------------------------------------------------------------------+\r\n",
      "| Processes:                                                                  |\r\n",
      "|  GPU   GI   CI        PID   Type   Process name                  GPU Memory |\r\n",
      "|        ID   ID                                                   Usage      |\r\n",
      "|=============================================================================|\r\n",
      "|  No running processes found                                                 |\r\n",
      "+-----------------------------------------------------------------------------+\r\n"
     ]
    }
   ],
   "source": [
    "!nvidia-smi"
   ]
  },
  {
   "cell_type": "code",
   "execution_count": 2,
   "id": "5ef63d1d",
   "metadata": {
    "execution": {
     "iopub.execute_input": "2023-12-29T18:56:14.934255Z",
     "iopub.status.busy": "2023-12-29T18:56:14.933502Z",
     "iopub.status.idle": "2023-12-29T18:56:14.938394Z",
     "shell.execute_reply": "2023-12-29T18:56:14.937586Z"
    },
    "id": "CjpPg4mGKc1v",
    "outputId": "a1e50876-1b5f-4211-ba5a-d61d8bf5d9b2",
    "papermill": {
     "duration": 0.012844,
     "end_time": "2023-12-29T18:56:14.940482",
     "exception": false,
     "start_time": "2023-12-29T18:56:14.927638",
     "status": "completed"
    },
    "tags": []
   },
   "outputs": [
    {
     "name": "stdout",
     "output_type": "stream",
     "text": [
      "/kaggle/working\n"
     ]
    }
   ],
   "source": [
    "import os\n",
    "HOME = os.getcwd()\n",
    "print(HOME)"
   ]
  },
  {
   "cell_type": "code",
   "execution_count": 3,
   "id": "f185c7b7",
   "metadata": {
    "execution": {
     "iopub.execute_input": "2023-12-29T18:56:14.951132Z",
     "iopub.status.busy": "2023-12-29T18:56:14.950866Z",
     "iopub.status.idle": "2023-12-29T18:56:35.903455Z",
     "shell.execute_reply": "2023-12-29T18:56:35.902572Z"
    },
    "id": "tdSMcABDNKW-",
    "outputId": "bea81dfb-ca31-4ac5-8dd7-36f84d54fdab",
    "papermill": {
     "duration": 20.960057,
     "end_time": "2023-12-29T18:56:35.905456",
     "exception": false,
     "start_time": "2023-12-29T18:56:14.945399",
     "status": "completed"
    },
    "tags": []
   },
   "outputs": [
    {
     "name": "stderr",
     "output_type": "stream",
     "text": [
      "Ultralytics YOLOv8.0.20 🚀 Python-3.10.12 torch-2.0.0 CUDA:0 (Tesla P100-PCIE-16GB, 16281MiB)\n",
      "Setup complete ✅ (4 CPUs, 31.4 GB RAM, 5310.5/8062.4 GB disk)\n"
     ]
    }
   ],
   "source": [
    "# Pip install method (recommended)\n",
    "\n",
    "!pip install ultralytics==8.0.20\n",
    "\n",
    "from IPython import display\n",
    "display.clear_output()\n",
    "\n",
    "import ultralytics\n",
    "ultralytics.checks()"
   ]
  },
  {
   "cell_type": "code",
   "execution_count": 4,
   "id": "6a8ee485",
   "metadata": {
    "execution": {
     "iopub.execute_input": "2023-12-29T18:56:35.917495Z",
     "iopub.status.busy": "2023-12-29T18:56:35.916815Z",
     "iopub.status.idle": "2023-12-29T18:56:35.922334Z",
     "shell.execute_reply": "2023-12-29T18:56:35.921547Z"
    },
    "id": "iVvaIYEEPOty",
    "papermill": {
     "duration": 0.013552,
     "end_time": "2023-12-29T18:56:35.924165",
     "exception": false,
     "start_time": "2023-12-29T18:56:35.910613",
     "status": "completed"
    },
    "tags": []
   },
   "outputs": [],
   "source": [
    "def evaluate(log_file_path):\n",
    "    # Open the file and read its content\n",
    "    with open(log_file_path, 'r') as file:\n",
    "        lines = file.readlines()\n",
    "\n",
    "    # Extract the metrics from the last line of the file\n",
    "    last_line = lines[-3].strip()\n",
    "    metrics = last_line.split()\n",
    "\n",
    "    # Create a dictionary with keys and values\n",
    "    metrics_dict = {\n",
    "        \"Precision (P)\": metrics[3],\n",
    "        \"Recall (R)\": metrics[4],\n",
    "        \"mAP50\": metrics[5],\n",
    "        \"mAP50-95\": metrics[6]\n",
    "    }\n",
    "    return metrics_dict"
   ]
  },
  {
   "cell_type": "code",
   "execution_count": 5,
   "id": "27639959",
   "metadata": {
    "execution": {
     "iopub.execute_input": "2023-12-29T18:56:35.935260Z",
     "iopub.status.busy": "2023-12-29T18:56:35.934785Z",
     "iopub.status.idle": "2023-12-29T18:56:35.938923Z",
     "shell.execute_reply": "2023-12-29T18:56:35.938183Z"
    },
    "id": "VOEYrlBoP9-E",
    "papermill": {
     "duration": 0.011614,
     "end_time": "2023-12-29T18:56:35.940672",
     "exception": false,
     "start_time": "2023-12-29T18:56:35.929058",
     "status": "completed"
    },
    "tags": []
   },
   "outputs": [],
   "source": [
    "from ultralytics import YOLO\n",
    "from IPython.display import display, Image"
   ]
  },
  {
   "cell_type": "code",
   "execution_count": 6,
   "id": "be28f3dd",
   "metadata": {
    "execution": {
     "iopub.execute_input": "2023-12-29T18:56:35.951691Z",
     "iopub.status.busy": "2023-12-29T18:56:35.951050Z",
     "iopub.status.idle": "2023-12-29T18:57:05.672024Z",
     "shell.execute_reply": "2023-12-29T18:57:05.670964Z"
    },
    "id": "BSd93ZJzZZKt",
    "outputId": "a203f3bf-8429-41bb-9eb6-01fbfd067800",
    "papermill": {
     "duration": 29.728493,
     "end_time": "2023-12-29T18:57:05.674035",
     "exception": false,
     "start_time": "2023-12-29T18:56:35.945542",
     "status": "completed"
    },
    "tags": []
   },
   "outputs": [
    {
     "name": "stdout",
     "output_type": "stream",
     "text": [
      "/kaggle/working/datasets\n",
      "\u001b[31mERROR: pip's dependency resolver does not currently take into account all the packages that are installed. This behaviour is the source of the following dependency conflicts.\r\n",
      "jupyterlab 4.0.5 requires jupyter-lsp>=2.0.0, but you have jupyter-lsp 1.5.1 which is incompatible.\r\n",
      "jupyterlab-lsp 5.0.1 requires jupyter-lsp>=2.0.0, but you have jupyter-lsp 1.5.1 which is incompatible.\r\n",
      "jupyterlab-lsp 5.0.1 requires jupyterlab<5.0.0a0,>=4.0.6, but you have jupyterlab 4.0.5 which is incompatible.\r\n",
      "libpysal 4.9.2 requires packaging>=22, but you have packaging 21.3 which is incompatible.\r\n",
      "libpysal 4.9.2 requires shapely>=2.0.1, but you have shapely 1.8.5.post1 which is incompatible.\r\n",
      "momepy 0.7.0 requires shapely>=2, but you have shapely 1.8.5.post1 which is incompatible.\r\n",
      "pytoolconfig 1.2.6 requires packaging>=22.0, but you have packaging 21.3 which is incompatible.\r\n",
      "spopt 0.6.0 requires shapely>=2.0.1, but you have shapely 1.8.5.post1 which is incompatible.\r\n",
      "tensorflowjs 4.14.0 requires packaging~=23.1, but you have packaging 21.3 which is incompatible.\r\n",
      "ydata-profiling 4.5.1 requires numpy<1.24,>=1.16.0, but you have numpy 1.24.3 which is incompatible.\u001b[0m\u001b[31m\r\n",
      "\u001b[0m"
     ]
    },
    {
     "name": "stderr",
     "output_type": "stream",
     "text": [
      "A NumPy version >=1.16.5 and <1.23.0 is required for this version of SciPy (detected version 1.24.3\n"
     ]
    },
    {
     "name": "stdout",
     "output_type": "stream",
     "text": [
      "loading Roboflow workspace...\n",
      "loading Roboflow project...\n",
      "Dependency ultralytics==8.0.196 is required but found version=8.0.20, to fix: `pip install ultralytics==8.0.196`\n"
     ]
    },
    {
     "name": "stderr",
     "output_type": "stream",
     "text": [
      "Downloading Dataset Version Zip in Football-Celebrations-1 to yolov8:: 100%|██████████| 46025/46025 [00:02<00:00, 20645.32it/s]"
     ]
    },
    {
     "name": "stdout",
     "output_type": "stream",
     "text": [
      "\n"
     ]
    },
    {
     "name": "stderr",
     "output_type": "stream",
     "text": [
      "\n",
      "Extracting Dataset Version Zip to Football-Celebrations-1 in yolov8:: 100%|██████████| 1917/1917 [00:00<00:00, 7412.11it/s]\n"
     ]
    }
   ],
   "source": [
    "!mkdir {HOME}/datasets\n",
    "%cd {HOME}/datasets\n",
    "\n",
    "!pip install roboflow --quiet\n",
    "\n",
    "from roboflow import Roboflow\n",
    "rf = Roboflow(api_key=\"rd4tCrzvJ3lcqGilNLTr\")\n",
    "project = rf.workspace(\"home-jfi5i\").project(\"football-celebrations\")\n",
    "dataset = project.version(1).download(\"yolov8\")"
   ]
  },
  {
   "cell_type": "markdown",
   "id": "6e64c567",
   "metadata": {
    "id": "YUjFBKKqXa-u",
    "papermill": {
     "duration": 0.007501,
     "end_time": "2023-12-29T18:57:05.689518",
     "exception": false,
     "start_time": "2023-12-29T18:57:05.682017",
     "status": "completed"
    },
    "tags": []
   },
   "source": [
    "## Custom Training"
   ]
  },
  {
   "cell_type": "code",
   "execution_count": 7,
   "id": "d3a93fff",
   "metadata": {
    "execution": {
     "iopub.execute_input": "2023-12-29T18:57:05.706509Z",
     "iopub.status.busy": "2023-12-29T18:57:05.706220Z",
     "iopub.status.idle": "2023-12-29T18:57:06.701886Z",
     "shell.execute_reply": "2023-12-29T18:57:06.700415Z"
    },
    "papermill": {
     "duration": 1.00704,
     "end_time": "2023-12-29T18:57:06.704349",
     "exception": false,
     "start_time": "2023-12-29T18:57:05.697309",
     "status": "completed"
    },
    "tags": []
   },
   "outputs": [
    {
     "name": "stdout",
     "output_type": "stream",
     "text": [
      "/kaggle/working/datasets/Football-Celebrations-1\n"
     ]
    }
   ],
   "source": [
    "%cd /kaggle/working/datasets/Football-Celebrations-1\n",
    "%mkdir valid"
   ]
  },
  {
   "cell_type": "code",
   "execution_count": 8,
   "id": "ca0bc9c4",
   "metadata": {
    "execution": {
     "iopub.execute_input": "2023-12-29T18:57:06.722880Z",
     "iopub.status.busy": "2023-12-29T18:57:06.722422Z",
     "iopub.status.idle": "2023-12-29T18:57:08.629909Z",
     "shell.execute_reply": "2023-12-29T18:57:08.628505Z"
    },
    "id": "UWgo4Mwo2g9Z",
    "papermill": {
     "duration": 1.919835,
     "end_time": "2023-12-29T18:57:08.632477",
     "exception": false,
     "start_time": "2023-12-29T18:57:06.712642",
     "status": "completed"
    },
    "tags": []
   },
   "outputs": [],
   "source": [
    "%cp -r '/kaggle/working/datasets/Football-Celebrations-1/test/images' '/kaggle/working/datasets/Football-Celebrations-1/valid/images'\n",
    "%cp -r '/kaggle/working/datasets/Football-Celebrations-1/test/labels' '/kaggle/working/datasets/Football-Celebrations-1/valid/labels'"
   ]
  },
  {
   "cell_type": "code",
   "execution_count": 9,
   "id": "2c183195",
   "metadata": {
    "execution": {
     "iopub.execute_input": "2023-12-29T18:57:08.650495Z",
     "iopub.status.busy": "2023-12-29T18:57:08.650127Z",
     "iopub.status.idle": "2023-12-29T19:16:12.046631Z",
     "shell.execute_reply": "2023-12-29T19:16:12.045281Z"
    },
    "id": "D2YkphuiaE7_",
    "outputId": "1795f430-19f1-4238-cb11-1f5afd04c385",
    "papermill": {
     "duration": 1143.408018,
     "end_time": "2023-12-29T19:16:12.049087",
     "exception": false,
     "start_time": "2023-12-29T18:57:08.641069",
     "status": "completed"
    },
    "tags": []
   },
   "outputs": [
    {
     "name": "stdout",
     "output_type": "stream",
     "text": [
      "/kaggle/working\n",
      "Downloading https://github.com/ultralytics/assets/releases/download/v0.0.0/yolov8n.pt to yolov8n.pt...\r\n",
      "100%|██████████| 6.23M/6.23M [00:00<00:00, 22.6MB/s]\r\n",
      "\r\n",
      "Ultralytics YOLOv8.0.20 🚀 Python-3.10.12 torch-2.0.0 CUDA:0 (Tesla P100-PCIE-16GB, 16281MiB)\r\n",
      "\u001b[34m\u001b[1myolo/engine/trainer: \u001b[0mtask=detect, mode=train, model=yolov8n.yaml, data=/kaggle/working/datasets/Football-Celebrations-1/data.yaml, epochs=50, patience=50, batch=16, imgsz=800, save=True, cache=False, device=, workers=8, project=None, name=None, exist_ok=False, pretrained=False, optimizer=SGD, verbose=True, seed=0, deterministic=True, single_cls=False, image_weights=False, rect=False, cos_lr=False, close_mosaic=10, resume=False, overlap_mask=True, mask_ratio=4, dropout=False, val=True, save_json=False, save_hybrid=False, conf=0.001, iou=0.7, max_det=300, half=False, dnn=False, plots=True, source=ultralytics/assets/, show=False, save_txt=False, save_conf=False, save_crop=False, hide_labels=False, hide_conf=False, vid_stride=1, line_thickness=3, visualize=False, augment=False, agnostic_nms=False, classes=None, retina_masks=False, boxes=True, format=torchscript, keras=False, optimize=False, int8=False, dynamic=False, simplify=False, opset=17, workspace=4, nms=False, lr0=0.01, lrf=0.01, momentum=0.937, weight_decay=0.001, warmup_epochs=3.0, warmup_momentum=0.8, warmup_bias_lr=0.1, box=7.5, cls=0.5, dfl=1.5, fl_gamma=0.0, label_smoothing=0.0, nbs=64, hsv_h=0.015, hsv_s=0.7, hsv_v=0.4, degrees=0.0, translate=0.1, scale=0.5, shear=0.0, perspective=0.0, flipud=0.0, fliplr=0.5, mosaic=1.0, mixup=0.0, copy_paste=0.0, cfg=None, v5loader=False, save_dir=runs/detect/train\r\n",
      "Downloading https://ultralytics.com/assets/Arial.ttf to /root/.config/Ultralytics/Arial.ttf...\r\n",
      "100%|██████████| 755k/755k [00:00<00:00, 4.25MB/s]\r\n",
      "/opt/conda/lib/python3.10/site-packages/scipy/__init__.py:146: UserWarning: A NumPy version >=1.16.5 and <1.23.0 is required for this version of SciPy (detected version 1.24.3\r\n",
      "  warnings.warn(f\"A NumPy version >={np_minversion} and <{np_maxversion}\"\r\n",
      "Overriding model.yaml nc=80 with nc=1\r\n",
      "\r\n",
      "                   from  n    params  module                                       arguments                     \r\n",
      "  0                  -1  1       464  ultralytics.nn.modules.Conv                  [3, 16, 3, 2]                 \r\n",
      "  1                  -1  1      4672  ultralytics.nn.modules.Conv                  [16, 32, 3, 2]                \r\n",
      "  2                  -1  1      7360  ultralytics.nn.modules.C2f                   [32, 32, 1, True]             \r\n",
      "  3                  -1  1     18560  ultralytics.nn.modules.Conv                  [32, 64, 3, 2]                \r\n",
      "  4                  -1  2     49664  ultralytics.nn.modules.C2f                   [64, 64, 2, True]             \r\n",
      "  5                  -1  1     73984  ultralytics.nn.modules.Conv                  [64, 128, 3, 2]               \r\n",
      "  6                  -1  2    197632  ultralytics.nn.modules.C2f                   [128, 128, 2, True]           \r\n",
      "  7                  -1  1    295424  ultralytics.nn.modules.Conv                  [128, 256, 3, 2]              \r\n",
      "  8                  -1  1    460288  ultralytics.nn.modules.C2f                   [256, 256, 1, True]           \r\n",
      "  9                  -1  1    164608  ultralytics.nn.modules.SPPF                  [256, 256, 5]                 \r\n",
      " 10                  -1  1         0  torch.nn.modules.upsampling.Upsample         [None, 2, 'nearest']          \r\n",
      " 11             [-1, 6]  1         0  ultralytics.nn.modules.Concat                [1]                           \r\n",
      " 12                  -1  1    148224  ultralytics.nn.modules.C2f                   [384, 128, 1]                 \r\n",
      " 13                  -1  1         0  torch.nn.modules.upsampling.Upsample         [None, 2, 'nearest']          \r\n",
      " 14             [-1, 4]  1         0  ultralytics.nn.modules.Concat                [1]                           \r\n",
      " 15                  -1  1     37248  ultralytics.nn.modules.C2f                   [192, 64, 1]                  \r\n",
      " 16                  -1  1     36992  ultralytics.nn.modules.Conv                  [64, 64, 3, 2]                \r\n",
      " 17            [-1, 12]  1         0  ultralytics.nn.modules.Concat                [1]                           \r\n",
      " 18                  -1  1    123648  ultralytics.nn.modules.C2f                   [192, 128, 1]                 \r\n",
      " 19                  -1  1    147712  ultralytics.nn.modules.Conv                  [128, 128, 3, 2]              \r\n",
      " 20             [-1, 9]  1         0  ultralytics.nn.modules.Concat                [1]                           \r\n",
      " 21                  -1  1    493056  ultralytics.nn.modules.C2f                   [384, 256, 1]                 \r\n",
      " 22        [15, 18, 21]  1    751507  ultralytics.nn.modules.Detect                [1, [64, 128, 256]]           \r\n",
      "Model summary: 225 layers, 3011043 parameters, 3011027 gradients, 8.2 GFLOPs\r\n",
      "\r\n",
      "Transferred 319/355 items from pretrained weights\r\n",
      "\u001b[34m\u001b[1moptimizer:\u001b[0m SGD(lr=0.01) with parameter groups 57 weight(decay=0.0), 64 weight(decay=0.001), 63 bias\r\n",
      "\u001b[34m\u001b[1mtrain: \u001b[0mScanning /kaggle/working/datasets/Football-Celebrations-1/train/labels... 869 images, 0 backgrounds, 0 corrupt: 100%|██████████| 869/869 [00:00<00:00, 1337.44it/s]\r\n",
      "\u001b[34m\u001b[1mtrain: \u001b[0mNew cache created: /kaggle/working/datasets/Football-Celebrations-1/train/labels.cache\r\n",
      "\u001b[34m\u001b[1malbumentations: \u001b[0mBlur(p=0.01, blur_limit=(3, 7)), MedianBlur(p=0.01, blur_limit=(3, 7)), ToGray(p=0.01), CLAHE(p=0.01, clip_limit=(1, 4.0), tile_grid_size=(8, 8))\r\n",
      "\u001b[34m\u001b[1mval: \u001b[0mScanning /kaggle/working/datasets/Football-Celebrations-1/valid/labels... 85 images, 0 backgrounds, 0 corrupt: 100%|██████████| 85/85 [00:00<00:00, 1323.28it/s]\r\n",
      "\u001b[34m\u001b[1mval: \u001b[0mNew cache created: /kaggle/working/datasets/Football-Celebrations-1/valid/labels.cache\r\n",
      "Image sizes 800 train, 800 val\r\n",
      "Using 4 dataloader workers\r\n",
      "Logging results to \u001b[1mruns/detect/train\u001b[0m\r\n",
      "Starting training for 50 epochs...\r\n",
      "\r\n",
      "      Epoch    GPU_mem   box_loss   cls_loss   dfl_loss  Instances       Size\r\n",
      "       1/50      3.38G      1.619      2.545      1.895          6        800: 100%|██████████| 55/55 [00:26<00:00,  2.05it/s]\r\n",
      "                 Class     Images  Instances      Box(P          R      mAP50  mAP50-95): 100%|██████████| 3/3 [00:02<00:00,  1.14it/s]\r\n",
      "                   all         85         85      0.307      0.788      0.597      0.323\r\n",
      "\r\n",
      "      Epoch    GPU_mem   box_loss   cls_loss   dfl_loss  Instances       Size\r\n",
      "       2/50      3.78G      1.462       1.54      1.657         10        800: 100%|██████████| 55/55 [00:21<00:00,  2.62it/s]\r\n",
      "                 Class     Images  Instances      Box(P          R      mAP50  mAP50-95): 100%|██████████| 3/3 [00:01<00:00,  1.96it/s]\r\n",
      "                   all         85         85      0.806      0.835      0.871      0.357\r\n",
      "\r\n",
      "      Epoch    GPU_mem   box_loss   cls_loss   dfl_loss  Instances       Size\r\n",
      "       3/50      3.78G      1.452      1.351      1.642         11        800: 100%|██████████| 55/55 [00:20<00:00,  2.62it/s]\r\n",
      "                 Class     Images  Instances      Box(P          R      mAP50  mAP50-95): 100%|██████████| 3/3 [00:01<00:00,  2.02it/s]\r\n",
      "                   all         85         85      0.858      0.718      0.807      0.368\r\n",
      "\r\n",
      "      Epoch    GPU_mem   box_loss   cls_loss   dfl_loss  Instances       Size\r\n",
      "       4/50      3.78G      1.472      1.323      1.654         10        800: 100%|██████████| 55/55 [00:20<00:00,  2.64it/s]\r\n",
      "                 Class     Images  Instances      Box(P          R      mAP50  mAP50-95): 100%|██████████| 3/3 [00:01<00:00,  2.01it/s]\r\n",
      "                   all         85         85       0.45      0.559      0.479      0.226\r\n",
      "\r\n",
      "      Epoch    GPU_mem   box_loss   cls_loss   dfl_loss  Instances       Size\r\n",
      "       5/50      3.79G      1.474      1.321      1.657         10        800: 100%|██████████| 55/55 [00:20<00:00,  2.71it/s]\r\n",
      "                 Class     Images  Instances      Box(P          R      mAP50  mAP50-95): 100%|██████████| 3/3 [00:01<00:00,  1.96it/s]\r\n",
      "                   all         85         85      0.864      0.847      0.932      0.401\r\n",
      "\r\n",
      "      Epoch    GPU_mem   box_loss   cls_loss   dfl_loss  Instances       Size\r\n",
      "       6/50      3.79G      1.473      1.274      1.658         11        800: 100%|██████████| 55/55 [00:20<00:00,  2.63it/s]\r\n",
      "                 Class     Images  Instances      Box(P          R      mAP50  mAP50-95): 100%|██████████| 3/3 [00:01<00:00,  2.08it/s]\r\n",
      "                   all         85         85       0.84      0.765      0.882        0.4\r\n",
      "\r\n",
      "      Epoch    GPU_mem   box_loss   cls_loss   dfl_loss  Instances       Size\r\n",
      "       7/50      3.79G      1.417      1.151      1.609         11        800: 100%|██████████| 55/55 [00:20<00:00,  2.69it/s]\r\n",
      "                 Class     Images  Instances      Box(P          R      mAP50  mAP50-95): 100%|██████████| 3/3 [00:01<00:00,  2.10it/s]\r\n",
      "                   all         85         85      0.786      0.812      0.855        0.4\r\n",
      "\r\n",
      "      Epoch    GPU_mem   box_loss   cls_loss   dfl_loss  Instances       Size\r\n",
      "       8/50      3.79G      1.392      1.094      1.578          9        800: 100%|██████████| 55/55 [00:19<00:00,  2.76it/s]\r\n",
      "                 Class     Images  Instances      Box(P          R      mAP50  mAP50-95): 100%|██████████| 3/3 [00:01<00:00,  2.26it/s]\r\n",
      "                   all         85         85      0.912      0.856      0.928      0.457\r\n",
      "\r\n",
      "      Epoch    GPU_mem   box_loss   cls_loss   dfl_loss  Instances       Size\r\n",
      "       9/50      3.79G      1.358      1.085      1.562          9        800: 100%|██████████| 55/55 [00:21<00:00,  2.58it/s]\r\n",
      "                 Class     Images  Instances      Box(P          R      mAP50  mAP50-95): 100%|██████████| 3/3 [00:01<00:00,  2.14it/s]\r\n",
      "                   all         85         85      0.901      0.965       0.96       0.57\r\n",
      "\r\n",
      "      Epoch    GPU_mem   box_loss   cls_loss   dfl_loss  Instances       Size\r\n",
      "      10/50      3.79G      1.324      1.012      1.532          9        800: 100%|██████████| 55/55 [00:20<00:00,  2.68it/s]\r\n",
      "                 Class     Images  Instances      Box(P          R      mAP50  mAP50-95): 100%|██████████| 3/3 [00:01<00:00,  2.15it/s]\r\n",
      "                   all         85         85      0.775      0.892       0.92       0.48\r\n",
      "\r\n",
      "      Epoch    GPU_mem   box_loss   cls_loss   dfl_loss  Instances       Size\r\n",
      "      11/50      3.79G      1.312     0.9403      1.532          8        800: 100%|██████████| 55/55 [00:20<00:00,  2.67it/s]\r\n",
      "                 Class     Images  Instances      Box(P          R      mAP50  mAP50-95): 100%|██████████| 3/3 [00:01<00:00,  1.95it/s]\r\n",
      "                   all         85         85      0.944      0.941      0.966      0.617\r\n",
      "\r\n",
      "      Epoch    GPU_mem   box_loss   cls_loss   dfl_loss  Instances       Size\r\n",
      "      12/50      3.79G      1.275      0.936      1.491         11        800: 100%|██████████| 55/55 [00:20<00:00,  2.69it/s]\r\n",
      "                 Class     Images  Instances      Box(P          R      mAP50  mAP50-95): 100%|██████████| 3/3 [00:01<00:00,  2.03it/s]\r\n",
      "                   all         85         85      0.963      0.929      0.971      0.576\r\n",
      "\r\n",
      "      Epoch    GPU_mem   box_loss   cls_loss   dfl_loss  Instances       Size\r\n",
      "      13/50      3.79G       1.23     0.8745      1.464          7        800: 100%|██████████| 55/55 [00:21<00:00,  2.61it/s]\r\n",
      "                 Class     Images  Instances      Box(P          R      mAP50  mAP50-95): 100%|██████████| 3/3 [00:01<00:00,  2.18it/s]\r\n",
      "                   all         85         85      0.952      0.988      0.983      0.644\r\n",
      "\r\n",
      "      Epoch    GPU_mem   box_loss   cls_loss   dfl_loss  Instances       Size\r\n",
      "      14/50      3.79G      1.227     0.8651      1.468          8        800: 100%|██████████| 55/55 [00:21<00:00,  2.52it/s]\r\n",
      "                 Class     Images  Instances      Box(P          R      mAP50  mAP50-95): 100%|██████████| 3/3 [00:01<00:00,  2.18it/s]\r\n",
      "                   all         85         85      0.899      0.918      0.959      0.476\r\n",
      "\r\n",
      "      Epoch    GPU_mem   box_loss   cls_loss   dfl_loss  Instances       Size\r\n",
      "      15/50      3.79G       1.22     0.8677       1.46         15        800: 100%|██████████| 55/55 [00:20<00:00,  2.63it/s]\r\n",
      "                 Class     Images  Instances      Box(P          R      mAP50  mAP50-95): 100%|██████████| 3/3 [00:01<00:00,  2.06it/s]\r\n",
      "                   all         85         85      0.961      0.965      0.965      0.654\r\n",
      "\r\n",
      "      Epoch    GPU_mem   box_loss   cls_loss   dfl_loss  Instances       Size\r\n",
      "      16/50      3.79G      1.215     0.8592      1.473         11        800: 100%|██████████| 55/55 [00:21<00:00,  2.58it/s]\r\n",
      "                 Class     Images  Instances      Box(P          R      mAP50  mAP50-95): 100%|██████████| 3/3 [00:01<00:00,  1.97it/s]\r\n",
      "                   all         85         85      0.953      0.956       0.98      0.671\r\n",
      "\r\n",
      "      Epoch    GPU_mem   box_loss   cls_loss   dfl_loss  Instances       Size\r\n",
      "      17/50      3.79G      1.218     0.8053       1.47         11        800: 100%|██████████| 55/55 [00:21<00:00,  2.55it/s]\r\n",
      "                 Class     Images  Instances      Box(P          R      mAP50  mAP50-95): 100%|██████████| 3/3 [00:01<00:00,  1.96it/s]\r\n",
      "                   all         85         85      0.963      0.976      0.983      0.673\r\n",
      "\r\n",
      "      Epoch    GPU_mem   box_loss   cls_loss   dfl_loss  Instances       Size\r\n",
      "      18/50      3.79G       1.19     0.8069      1.448         11        800: 100%|██████████| 55/55 [00:21<00:00,  2.60it/s]\r\n",
      "                 Class     Images  Instances      Box(P          R      mAP50  mAP50-95): 100%|██████████| 3/3 [00:01<00:00,  2.06it/s]\r\n",
      "                   all         85         85      0.963      0.988      0.981      0.692\r\n",
      "\r\n",
      "      Epoch    GPU_mem   box_loss   cls_loss   dfl_loss  Instances       Size\r\n",
      "      19/50      3.79G      1.189     0.8011      1.444         12        800: 100%|██████████| 55/55 [00:20<00:00,  2.74it/s]\r\n",
      "                 Class     Images  Instances      Box(P          R      mAP50  mAP50-95): 100%|██████████| 3/3 [00:01<00:00,  2.05it/s]\r\n",
      "                   all         85         85      0.999          1      0.995      0.696\r\n",
      "\r\n",
      "      Epoch    GPU_mem   box_loss   cls_loss   dfl_loss  Instances       Size\r\n",
      "      20/50      3.79G      1.157     0.7993      1.422         10        800: 100%|██████████| 55/55 [00:20<00:00,  2.63it/s]\r\n",
      "                 Class     Images  Instances      Box(P          R      mAP50  mAP50-95): 100%|██████████| 3/3 [00:01<00:00,  2.24it/s]\r\n",
      "                   all         85         85      0.974          1      0.988      0.643\r\n",
      "\r\n",
      "      Epoch    GPU_mem   box_loss   cls_loss   dfl_loss  Instances       Size\r\n",
      "      21/50      3.79G      1.134      0.747      1.416          9        800: 100%|██████████| 55/55 [00:20<00:00,  2.66it/s]\r\n",
      "                 Class     Images  Instances      Box(P          R      mAP50  mAP50-95): 100%|██████████| 3/3 [00:01<00:00,  2.07it/s]\r\n",
      "                   all         85         85      0.963      0.976      0.974      0.701\r\n",
      "\r\n",
      "      Epoch    GPU_mem   box_loss   cls_loss   dfl_loss  Instances       Size\r\n",
      "      22/50      3.79G      1.114     0.7216      1.403          7        800: 100%|██████████| 55/55 [00:20<00:00,  2.73it/s]\r\n",
      "                 Class     Images  Instances      Box(P          R      mAP50  mAP50-95): 100%|██████████| 3/3 [00:01<00:00,  2.09it/s]\r\n",
      "                   all         85         85      0.977      0.999      0.995      0.662\r\n",
      "\r\n",
      "      Epoch    GPU_mem   box_loss   cls_loss   dfl_loss  Instances       Size\r\n",
      "      23/50      3.79G       1.12     0.7341      1.397         10        800: 100%|██████████| 55/55 [00:20<00:00,  2.71it/s]\r\n",
      "                 Class     Images  Instances      Box(P          R      mAP50  mAP50-95): 100%|██████████| 3/3 [00:01<00:00,  2.00it/s]\r\n",
      "                   all         85         85      0.998      0.988      0.995      0.675\r\n",
      "\r\n",
      "      Epoch    GPU_mem   box_loss   cls_loss   dfl_loss  Instances       Size\r\n",
      "      24/50      3.79G      1.112     0.7363      1.397         13        800: 100%|██████████| 55/55 [00:20<00:00,  2.69it/s]\r\n",
      "                 Class     Images  Instances      Box(P          R      mAP50  mAP50-95): 100%|██████████| 3/3 [00:01<00:00,  2.20it/s]\r\n",
      "                   all         85         85      0.986      0.976      0.985      0.733\r\n",
      "\r\n",
      "      Epoch    GPU_mem   box_loss   cls_loss   dfl_loss  Instances       Size\r\n",
      "      25/50      3.79G      1.105     0.7245      1.378         11        800: 100%|██████████| 55/55 [00:20<00:00,  2.63it/s]\r\n",
      "                 Class     Images  Instances      Box(P          R      mAP50  mAP50-95): 100%|██████████| 3/3 [00:01<00:00,  2.23it/s]\r\n",
      "                   all         85         85      0.987      0.988      0.984      0.721\r\n",
      "\r\n",
      "      Epoch    GPU_mem   box_loss   cls_loss   dfl_loss  Instances       Size\r\n",
      "      26/50      3.79G      1.072     0.6926      1.362         13        800: 100%|██████████| 55/55 [00:20<00:00,  2.67it/s]\r\n",
      "                 Class     Images  Instances      Box(P          R      mAP50  mAP50-95): 100%|██████████| 3/3 [00:01<00:00,  2.22it/s]\r\n",
      "                   all         85         85      0.977      0.987      0.974      0.702\r\n",
      "\r\n",
      "      Epoch    GPU_mem   box_loss   cls_loss   dfl_loss  Instances       Size\r\n",
      "      27/50      3.79G       1.05     0.6975      1.349          9        800: 100%|██████████| 55/55 [00:21<00:00,  2.62it/s]\r\n",
      "                 Class     Images  Instances      Box(P          R      mAP50  mAP50-95): 100%|██████████| 3/3 [00:01<00:00,  2.05it/s]\r\n",
      "                   all         85         85      0.986      0.988      0.981      0.684\r\n",
      "\r\n",
      "      Epoch    GPU_mem   box_loss   cls_loss   dfl_loss  Instances       Size\r\n",
      "      28/50      3.79G      1.064     0.6996      1.358          6        800: 100%|██████████| 55/55 [00:20<00:00,  2.66it/s]\r\n",
      "                 Class     Images  Instances      Box(P          R      mAP50  mAP50-95): 100%|██████████| 3/3 [00:01<00:00,  2.16it/s]\r\n",
      "                   all         85         85      0.953          1       0.99      0.717\r\n",
      "\r\n",
      "      Epoch    GPU_mem   box_loss   cls_loss   dfl_loss  Instances       Size\r\n",
      "      29/50      3.79G      1.035      0.677      1.348         10        800: 100%|██████████| 55/55 [00:20<00:00,  2.70it/s]\r\n",
      "                 Class     Images  Instances      Box(P          R      mAP50  mAP50-95): 100%|██████████| 3/3 [00:01<00:00,  2.01it/s]\r\n",
      "                   all         85         85      0.959      0.953      0.989      0.711\r\n",
      "\r\n",
      "      Epoch    GPU_mem   box_loss   cls_loss   dfl_loss  Instances       Size\r\n",
      "      30/50      3.79G      1.025     0.6559      1.333         11        800: 100%|██████████| 55/55 [00:21<00:00,  2.57it/s]\r\n",
      "                 Class     Images  Instances      Box(P          R      mAP50  mAP50-95): 100%|██████████| 3/3 [00:01<00:00,  2.01it/s]\r\n",
      "                   all         85         85      0.977      0.996      0.995      0.711\r\n",
      "\r\n",
      "      Epoch    GPU_mem   box_loss   cls_loss   dfl_loss  Instances       Size\r\n",
      "      31/50      3.79G      1.012     0.6616       1.33         12        800: 100%|██████████| 55/55 [00:21<00:00,  2.54it/s]\r\n",
      "                 Class     Images  Instances      Box(P          R      mAP50  mAP50-95): 100%|██████████| 3/3 [00:01<00:00,  1.89it/s]\r\n",
      "                   all         85         85      0.987      0.988      0.987      0.741\r\n",
      "\r\n",
      "      Epoch    GPU_mem   box_loss   cls_loss   dfl_loss  Instances       Size\r\n",
      "      32/50      3.79G      1.018     0.6473      1.328          8        800: 100%|██████████| 55/55 [00:21<00:00,  2.58it/s]\r\n",
      "                 Class     Images  Instances      Box(P          R      mAP50  mAP50-95): 100%|██████████| 3/3 [00:01<00:00,  2.03it/s]\r\n",
      "                   all         85         85      0.988      0.987      0.985      0.732\r\n",
      "\r\n",
      "      Epoch    GPU_mem   box_loss   cls_loss   dfl_loss  Instances       Size\r\n",
      "      33/50      3.79G     0.9919     0.6319      1.312         11        800: 100%|██████████| 55/55 [00:20<00:00,  2.65it/s]\r\n",
      "                 Class     Images  Instances      Box(P          R      mAP50  mAP50-95): 100%|██████████| 3/3 [00:01<00:00,  2.07it/s]\r\n",
      "                   all         85         85      0.987      0.988      0.985      0.746\r\n",
      "\r\n",
      "      Epoch    GPU_mem   box_loss   cls_loss   dfl_loss  Instances       Size\r\n",
      "      34/50      3.79G     0.9514     0.5889       1.29         12        800: 100%|██████████| 55/55 [00:21<00:00,  2.58it/s]\r\n",
      "                 Class     Images  Instances      Box(P          R      mAP50  mAP50-95): 100%|██████████| 3/3 [00:01<00:00,  2.05it/s]\r\n",
      "                   all         85         85      0.978      0.988      0.988      0.738\r\n",
      "\r\n",
      "      Epoch    GPU_mem   box_loss   cls_loss   dfl_loss  Instances       Size\r\n",
      "      35/50      3.79G     0.9686     0.6142      1.317          5        800: 100%|██████████| 55/55 [00:20<00:00,  2.68it/s]\r\n",
      "                 Class     Images  Instances      Box(P          R      mAP50  mAP50-95): 100%|██████████| 3/3 [00:01<00:00,  2.05it/s]\r\n",
      "                   all         85         85      0.988      0.988      0.987      0.752\r\n",
      "\r\n",
      "      Epoch    GPU_mem   box_loss   cls_loss   dfl_loss  Instances       Size\r\n",
      "      36/50      3.79G     0.9615     0.6052      1.282          6        800: 100%|██████████| 55/55 [00:20<00:00,  2.71it/s]\r\n",
      "                 Class     Images  Instances      Box(P          R      mAP50  mAP50-95): 100%|██████████| 3/3 [00:01<00:00,  2.08it/s]\r\n",
      "                   all         85         85      0.977      0.996      0.995      0.745\r\n",
      "\r\n",
      "      Epoch    GPU_mem   box_loss   cls_loss   dfl_loss  Instances       Size\r\n",
      "      37/50      3.79G     0.9513     0.5985      1.291         16        800: 100%|██████████| 55/55 [00:19<00:00,  2.77it/s]\r\n",
      "                 Class     Images  Instances      Box(P          R      mAP50  mAP50-95): 100%|██████████| 3/3 [00:01<00:00,  2.25it/s]\r\n",
      "                   all         85         85      0.987      0.988      0.983      0.747\r\n",
      "\r\n",
      "      Epoch    GPU_mem   box_loss   cls_loss   dfl_loss  Instances       Size\r\n",
      "      38/50      3.79G     0.9263     0.5786      1.283          9        800: 100%|██████████| 55/55 [00:20<00:00,  2.64it/s]\r\n",
      "                 Class     Images  Instances      Box(P          R      mAP50  mAP50-95): 100%|██████████| 3/3 [00:01<00:00,  2.07it/s]\r\n",
      "                   all         85         85      0.975      0.988      0.982      0.734\r\n",
      "\r\n",
      "      Epoch    GPU_mem   box_loss   cls_loss   dfl_loss  Instances       Size\r\n",
      "      39/50      3.79G     0.9327     0.5796      1.286          8        800: 100%|██████████| 55/55 [00:20<00:00,  2.68it/s]\r\n",
      "                 Class     Images  Instances      Box(P          R      mAP50  mAP50-95): 100%|██████████| 3/3 [00:01<00:00,  2.09it/s]\r\n",
      "                   all         85         85          1          1      0.995       0.76\r\n",
      "\r\n",
      "      Epoch    GPU_mem   box_loss   cls_loss   dfl_loss  Instances       Size\r\n",
      "      40/50      3.79G     0.9091     0.5667      1.264          9        800: 100%|██████████| 55/55 [00:20<00:00,  2.75it/s]\r\n",
      "                 Class     Images  Instances      Box(P          R      mAP50  mAP50-95): 100%|██████████| 3/3 [00:01<00:00,  2.26it/s]\r\n",
      "                   all         85         85      0.964      0.988      0.983      0.756\r\n",
      "Closing dataloader mosaic\r\n",
      "\u001b[34m\u001b[1malbumentations: \u001b[0mBlur(p=0.01, blur_limit=(3, 7)), MedianBlur(p=0.01, blur_limit=(3, 7)), ToGray(p=0.01), CLAHE(p=0.01, clip_limit=(1, 4.0), tile_grid_size=(8, 8))\r\n",
      "\r\n",
      "      Epoch    GPU_mem   box_loss   cls_loss   dfl_loss  Instances       Size\r\n",
      "      41/50      3.79G     0.8385     0.4761      1.368          5        800: 100%|██████████| 55/55 [00:15<00:00,  3.46it/s]\r\n",
      "                 Class     Images  Instances      Box(P          R      mAP50  mAP50-95): 100%|██████████| 3/3 [00:01<00:00,  1.99it/s]\r\n",
      "                   all         85         85      0.964      0.988      0.984       0.77\r\n",
      "\r\n",
      "      Epoch    GPU_mem   box_loss   cls_loss   dfl_loss  Instances       Size\r\n",
      "      42/50      3.79G     0.7866     0.4338      1.334          5        800: 100%|██████████| 55/55 [00:14<00:00,  3.88it/s]\r\n",
      "                 Class     Images  Instances      Box(P          R      mAP50  mAP50-95): 100%|██████████| 3/3 [00:01<00:00,  2.09it/s]\r\n",
      "                   all         85         85      0.987      0.988      0.986      0.771\r\n",
      "\r\n",
      "      Epoch    GPU_mem   box_loss   cls_loss   dfl_loss  Instances       Size\r\n",
      "      43/50      3.79G     0.7791      0.422      1.329          5        800: 100%|██████████| 55/55 [00:14<00:00,  3.77it/s]\r\n",
      "                 Class     Images  Instances      Box(P          R      mAP50  mAP50-95): 100%|██████████| 3/3 [00:01<00:00,  2.11it/s]\r\n",
      "                   all         85         85      0.987      0.988      0.987       0.77\r\n",
      "\r\n",
      "      Epoch    GPU_mem   box_loss   cls_loss   dfl_loss  Instances       Size\r\n",
      "      44/50      3.79G     0.7532     0.4083      1.286          5        800: 100%|██████████| 55/55 [00:14<00:00,  3.82it/s]\r\n",
      "                 Class     Images  Instances      Box(P          R      mAP50  mAP50-95): 100%|██████████| 3/3 [00:01<00:00,  2.06it/s]\r\n",
      "                   all         85         85      0.987      0.988      0.986      0.777\r\n",
      "\r\n",
      "      Epoch    GPU_mem   box_loss   cls_loss   dfl_loss  Instances       Size\r\n",
      "      45/50      3.79G      0.758     0.4046      1.298          5        800: 100%|██████████| 55/55 [00:14<00:00,  3.78it/s]\r\n",
      "                 Class     Images  Instances      Box(P          R      mAP50  mAP50-95): 100%|██████████| 3/3 [00:01<00:00,  2.11it/s]\r\n",
      "                   all         85         85      0.987      0.988      0.985      0.772\r\n",
      "\r\n",
      "      Epoch    GPU_mem   box_loss   cls_loss   dfl_loss  Instances       Size\r\n",
      "      46/50      3.79G     0.7365     0.3976      1.284          5        800: 100%|██████████| 55/55 [00:14<00:00,  3.87it/s]\r\n",
      "                 Class     Images  Instances      Box(P          R      mAP50  mAP50-95): 100%|██████████| 3/3 [00:01<00:00,  2.02it/s]\r\n",
      "                   all         85         85      0.987      0.988      0.987      0.782\r\n",
      "\r\n",
      "      Epoch    GPU_mem   box_loss   cls_loss   dfl_loss  Instances       Size\r\n",
      "      47/50      3.79G     0.7115     0.3849      1.262          5        800: 100%|██████████| 55/55 [00:14<00:00,  3.86it/s]\r\n",
      "                 Class     Images  Instances      Box(P          R      mAP50  mAP50-95): 100%|██████████| 3/3 [00:01<00:00,  2.10it/s]\r\n",
      "                   all         85         85      0.987      0.988      0.985      0.802\r\n",
      "\r\n",
      "      Epoch    GPU_mem   box_loss   cls_loss   dfl_loss  Instances       Size\r\n",
      "      48/50      3.79G     0.6941     0.3757      1.247          5        800: 100%|██████████| 55/55 [00:14<00:00,  3.81it/s]\r\n",
      "                 Class     Images  Instances      Box(P          R      mAP50  mAP50-95): 100%|██████████| 3/3 [00:01<00:00,  1.94it/s]\r\n",
      "                   all         85         85      0.987      0.988      0.986      0.803\r\n",
      "\r\n",
      "      Epoch    GPU_mem   box_loss   cls_loss   dfl_loss  Instances       Size\r\n",
      "      49/50      3.79G     0.6764     0.3714      1.211          5        800: 100%|██████████| 55/55 [00:14<00:00,  3.87it/s]\r\n",
      "                 Class     Images  Instances      Box(P          R      mAP50  mAP50-95): 100%|██████████| 3/3 [00:01<00:00,  2.01it/s]\r\n",
      "                   all         85         85      0.987      0.988      0.987      0.801\r\n",
      "\r\n",
      "      Epoch    GPU_mem   box_loss   cls_loss   dfl_loss  Instances       Size\r\n",
      "      50/50      3.79G     0.6501      0.361      1.228          5        800: 100%|██████████| 55/55 [00:14<00:00,  3.83it/s]\r\n",
      "                 Class     Images  Instances      Box(P          R      mAP50  mAP50-95): 100%|██████████| 3/3 [00:03<00:00,  1.03s/it]\r\n",
      "                   all         85         85      0.987      0.988      0.988       0.81\r\n",
      "\r\n",
      "50 epochs completed in 0.306 hours.\r\n",
      "Optimizer stripped from runs/detect/train/weights/last.pt, 6.3MB\r\n",
      "Optimizer stripped from runs/detect/train/weights/best.pt, 6.3MB\r\n",
      "\r\n",
      "Validating runs/detect/train/weights/best.pt...\r\n",
      "Ultralytics YOLOv8.0.20 🚀 Python-3.10.12 torch-2.0.0 CUDA:0 (Tesla P100-PCIE-16GB, 16281MiB)\r\n",
      "Model summary (fused): 168 layers, 3005843 parameters, 0 gradients, 8.1 GFLOPs\r\n",
      "                 Class     Images  Instances      Box(P          R      mAP50  mAP50-95): 100%|██████████| 3/3 [00:03<00:00,  1.03s/it]\r\n",
      "                   all         85         85      0.987      0.988      0.988      0.811\r\n",
      "Speed: 3.1ms pre-process, 4.9ms inference, 0.0ms loss, 1.3ms post-process per image\r\n",
      "Results saved to \u001b[1mruns/detect/train\u001b[0m\r\n"
     ]
    }
   ],
   "source": [
    "%cd {HOME}\n",
    "\n",
    "!yolo task=detect mode=train model=yolov8n.pt data={dataset.location}/data.yaml epochs=50 imgsz=800 plots=True 2>&1 | tee training_logs.txt"
   ]
  },
  {
   "cell_type": "code",
   "execution_count": 10,
   "id": "901c3104",
   "metadata": {
    "execution": {
     "iopub.execute_input": "2023-12-29T19:16:12.591627Z",
     "iopub.status.busy": "2023-12-29T19:16:12.590662Z",
     "iopub.status.idle": "2023-12-29T19:16:12.604235Z",
     "shell.execute_reply": "2023-12-29T19:16:12.603412Z"
    },
    "papermill": {
     "duration": 0.285805,
     "end_time": "2023-12-29T19:16:12.606149",
     "exception": false,
     "start_time": "2023-12-29T19:16:12.320344",
     "status": "completed"
    },
    "tags": []
   },
   "outputs": [
    {
     "data": {
      "text/plain": [
       "{'Precision (P)': '0.987',\n",
       " 'Recall (R)': '0.988',\n",
       " 'mAP50': '0.988',\n",
       " 'mAP50-95': '0.811'}"
      ]
     },
     "execution_count": 10,
     "metadata": {},
     "output_type": "execute_result"
    }
   ],
   "source": [
    "results = evaluate('/kaggle/working/training_logs.txt')\n",
    "results"
   ]
  },
  {
   "cell_type": "markdown",
   "id": "1aa5f1b3",
   "metadata": {
    "papermill": {
     "duration": 0.272297,
     "end_time": "2023-12-29T19:16:13.150639",
     "exception": false,
     "start_time": "2023-12-29T19:16:12.878342",
     "status": "completed"
    },
    "tags": []
   },
   "source": [
    "# Optimizing Using Genetic Algorithm"
   ]
  },
  {
   "cell_type": "code",
   "execution_count": 11,
   "id": "e11038c7",
   "metadata": {
    "execution": {
     "iopub.execute_input": "2023-12-29T19:16:13.691632Z",
     "iopub.status.busy": "2023-12-29T19:16:13.690487Z",
     "iopub.status.idle": "2023-12-29T19:16:13.694907Z",
     "shell.execute_reply": "2023-12-29T19:16:13.694027Z"
    },
    "papermill": {
     "duration": 0.277353,
     "end_time": "2023-12-29T19:16:13.697011",
     "exception": false,
     "start_time": "2023-12-29T19:16:13.419658",
     "status": "completed"
    },
    "tags": []
   },
   "outputs": [],
   "source": [
    "# model = YOLO('yolov8n.pt')\n",
    "# model._load('/kaggle/working/runs/detect/train2/weights/best.pt')\n",
    "# # parameters\n",
    "# model.model.state_dict()"
   ]
  },
  {
   "cell_type": "code",
   "execution_count": 12,
   "id": "91b16cb6",
   "metadata": {
    "execution": {
     "iopub.execute_input": "2023-12-29T19:16:14.242483Z",
     "iopub.status.busy": "2023-12-29T19:16:14.241622Z",
     "iopub.status.idle": "2023-12-29T19:19:27.474332Z",
     "shell.execute_reply": "2023-12-29T19:19:27.473415Z"
    },
    "papermill": {
     "duration": 193.507411,
     "end_time": "2023-12-29T19:19:27.477095",
     "exception": false,
     "start_time": "2023-12-29T19:16:13.969684",
     "status": "completed"
    },
    "tags": []
   },
   "outputs": [],
   "source": [
    "import torch\n",
    "import torch.nn as nn\n",
    "import torch.optim as optim\n",
    "import numpy as np\n",
    "from deap import base, creator, tools, algorithms\n",
    "\n",
    "# Create an instance of the YOLO model\n",
    "model = YOLO('yolov8n.pt')\n",
    "model._load('/kaggle/working/runs/detect/train/weights/best.pt')\n",
    "\n",
    "# Function to evaluate the model with given weights\n",
    "def evaluate_model(weights):\n",
    "    # Assign the weights to the model\n",
    "    assign_weights_to_model(model, weights)\n",
    "    \n",
    "    # Implement your evaluation logic here and return a fitness score\n",
    "    # For example, you can use a validation dataset and calculate accuracy, loss, etc.\n",
    "    metrics_dict = evaluate('/kaggle/working/training_logs.txt')\n",
    "    \n",
    "    # Weighted sum of metrics as the fitness value\n",
    "    fitness = (\n",
    "        float(metrics_dict[\"Precision (P)\"]) +\n",
    "        float(metrics_dict[\"Recall (R)\"]) +\n",
    "        float(metrics_dict[\"mAP50\"]) +\n",
    "        float(metrics_dict[\"mAP50-95\"])\n",
    "    )\n",
    "    \n",
    "    return fitness,\n",
    "\n",
    "# Function to assign weights to the model\n",
    "def assign_weights_to_model(model, flat_weights):\n",
    "    start = 0\n",
    "    for param in model.model.parameters():\n",
    "        end = start + np.prod(param.shape)\n",
    "        param.data = torch.from_numpy(flat_weights[start:end].reshape(param.shape)).to(torch.float32)\n",
    "        start = end\n",
    "\n",
    "\n",
    "# Function to get the model weights as a flat numpy array\n",
    "def get_model_weights(model):\n",
    "    state_dict = model.model.state_dict()\n",
    "    return np.concatenate([param.cpu().numpy().flatten() for param in state_dict.values()])\n",
    "\n",
    "# Define the genetic algorithm parameters\n",
    "POPULATION_SIZE = 50\n",
    "MUTATION_RATE = 0.1\n",
    "CROSSOVER_RATE = 0.8\n",
    "NUM_GENERATIONS = 10\n",
    "\n",
    "# Define the DEAP creator\n",
    "creator.create(\"FitnessMin\", base.Fitness, weights=(-1.0,))\n",
    "creator.create(\"Individual\", np.ndarray, fitness=creator.FitnessMin)\n",
    "\n",
    "# Create the DEAP toolbox\n",
    "toolbox = base.Toolbox()\n",
    "\n",
    "# Register the individual (a set of weights) and the population\n",
    "toolbox.register(\"individual\", tools.initRepeat, creator.Individual, np.random.rand, len(get_model_weights(model)))\n",
    "toolbox.register(\"population\", tools.initRepeat, list, toolbox.individual)\n",
    "\n",
    "# Register the genetic operators\n",
    "toolbox.register(\"evaluate\", evaluate_model)\n",
    "toolbox.register(\"mate\", tools.cxTwoPoint)\n",
    "toolbox.register(\"mutate\", tools.mutGaussian, mu=0, sigma=1, indpb=MUTATION_RATE)\n",
    "toolbox.register(\"select\", tools.selTournament, tournsize=3)\n",
    "\n",
    "# Create the initial population\n",
    "population = toolbox.population(n=POPULATION_SIZE)\n",
    "\n",
    "# Main genetic algorithm loop\n",
    "for gen in range(NUM_GENERATIONS):\n",
    "    # Evaluate the entire population\n",
    "    fitness_values = list(map(toolbox.evaluate, population))\n",
    "    \n",
    "    # Assign the fitness values to each individual\n",
    "    for ind, fit in zip(population, fitness_values):\n",
    "        ind.fitness.values = fit\n",
    "\n",
    "    # Select the next generation individuals\n",
    "    offspring = toolbox.select(population, len(population))\n",
    "\n",
    "    # Clone the selected individuals\n",
    "    offspring = list(map(toolbox.clone, offspring))\n",
    "\n",
    "    # Apply crossover and mutation to the offspring\n",
    "    for child1, child2 in zip(offspring[::2], offspring[1::2]):\n",
    "        if np.random.rand() < CROSSOVER_RATE:\n",
    "            toolbox.mate(child1, child2)\n",
    "            del child1.fitness.values\n",
    "            del child2.fitness.values\n",
    "\n",
    "    for mutant in offspring:\n",
    "        if np.random.rand() < MUTATION_RATE:\n",
    "            toolbox.mutate(mutant)\n",
    "            del mutant.fitness.values\n",
    "\n",
    "    # Evaluate the offspring\n",
    "    fitness_values = list(map(toolbox.evaluate, offspring))\n",
    "    for ind, fit in zip(offspring, fitness_values):\n",
    "        ind.fitness.values = fit\n",
    "\n",
    "    # Replace the old population by the offspring\n",
    "    population[:] = offspring\n",
    "\n",
    "# Get the best individual in the final population\n",
    "best_individual = tools.selBest(population, 1)[0]\n",
    "\n",
    "# Use the best weights for your YOLO model\n",
    "best_weights = best_individual\n",
    "assign_weights_to_model(model, best_weights)\n",
    "\n",
    "# Now 'model' is loaded with the best weights obtained from the genetic algorithm\n"
   ]
  },
  {
   "cell_type": "code",
   "execution_count": 13,
   "id": "4a025545",
   "metadata": {
    "execution": {
     "iopub.execute_input": "2023-12-29T19:19:28.073437Z",
     "iopub.status.busy": "2023-12-29T19:19:28.072456Z",
     "iopub.status.idle": "2023-12-29T19:19:49.258975Z",
     "shell.execute_reply": "2023-12-29T19:19:49.257867Z"
    },
    "papermill": {
     "duration": 21.462215,
     "end_time": "2023-12-29T19:19:49.261344",
     "exception": false,
     "start_time": "2023-12-29T19:19:27.799129",
     "status": "completed"
    },
    "tags": []
   },
   "outputs": [
    {
     "name": "stdout",
     "output_type": "stream",
     "text": [
      "/opt/conda/lib/python3.10/site-packages/scipy/__init__.py:146: UserWarning: A NumPy version >=1.16.5 and <1.23.0 is required for this version of SciPy (detected version 1.24.3\r\n",
      "  warnings.warn(f\"A NumPy version >={np_minversion} and <{np_maxversion}\"\r\n",
      "Ultralytics YOLOv8.0.20 🚀 Python-3.10.12 torch-2.0.0 CUDA:0 (Tesla P100-PCIE-16GB, 16281MiB)\r\n",
      "Model summary (fused): 168 layers, 3005843 parameters, 0 gradients, 8.1 GFLOPs\r\n",
      "\u001b[34m\u001b[1mval: \u001b[0mScanning /kaggle/working/datasets/Football-Celebrations-1/valid/labels.cache... 85 images, 0 backgrounds, 0 corrupt: 100%|██████████| 85/85 [00:00<?, ?it/s]\r\n",
      "                 Class     Images  Instances      Box(P          R      mAP50  mAP50-95): 100%|██████████| 6/6 [00:03<00:00,  1.83it/s]\r\n",
      "                   all         85         85      0.987      0.988      0.988      0.815\r\n",
      "Speed: 4.0ms pre-process, 4.3ms inference, 0.0ms loss, 7.7ms post-process per image\r\n"
     ]
    }
   ],
   "source": [
    "!yolo task=detect mode=val model='/kaggle/working/runs/detect/train/weights/best.pt' data={dataset.location}/data.yaml epochs=1 imgsz=800 plots=True 2>&1 | tee training_logs.txt"
   ]
  }
 ],
 "metadata": {
  "accelerator": "GPU",
  "colab": {
   "provenance": []
  },
  "gpuClass": "standard",
  "kaggle": {
   "accelerator": "gpu",
   "dataSources": [],
   "dockerImageVersionId": 30627,
   "isGpuEnabled": true,
   "isInternetEnabled": true,
   "language": "python",
   "sourceType": "notebook"
  },
  "kernelspec": {
   "display_name": "Python 3",
   "language": "python",
   "name": "python3"
  },
  "language_info": {
   "codemirror_mode": {
    "name": "ipython",
    "version": 3
   },
   "file_extension": ".py",
   "mimetype": "text/x-python",
   "name": "python",
   "nbconvert_exporter": "python",
   "pygments_lexer": "ipython3",
   "version": "3.10.12"
  },
  "papermill": {
   "default_parameters": {},
   "duration": 1419.962417,
   "end_time": "2023-12-29T19:19:50.680710",
   "environment_variables": {},
   "exception": null,
   "input_path": "__notebook__.ipynb",
   "output_path": "__notebook__.ipynb",
   "parameters": {},
   "start_time": "2023-12-29T18:56:10.718293",
   "version": "2.4.0"
  }
 },
 "nbformat": 4,
 "nbformat_minor": 5
}
